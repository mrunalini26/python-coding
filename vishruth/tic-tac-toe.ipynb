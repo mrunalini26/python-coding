{
 "cells": [
  {
   "cell_type": "code",
   "execution_count": 1,
   "metadata": {},
   "outputs": [
    {
     "name": "stderr",
     "output_type": "stream",
     "text": [
      "C:\\Users\\VishruthDilip\\AppData\\Roaming\\Python\\Python39\\site-packages\\numpy\\_distributor_init.py:30: UserWarning: loaded more than 1 DLL from .libs:\n",
      "C:\\Users\\VishruthDilip\\AppData\\Roaming\\Python\\Python39\\site-packages\\numpy\\.libs\\libopenblas.EL2C6PLE4ZYW3ECEVIV3OXXGRN2NRFM2.gfortran-win_amd64.dll\n",
      "C:\\Users\\VishruthDilip\\AppData\\Roaming\\Python\\Python39\\site-packages\\numpy\\.libs\\libopenblas.GK7GX5KEQ4F6UYO3P26ULGBQYHGQO7J4.gfortran-win_amd64.dll\n",
      "  warnings.warn(\"loaded more than 1 DLL from .libs:\"\n"
     ]
    }
   ],
   "source": [
    "import pandas as pd\n",
    "import numpy as np"
   ]
  },
  {
   "cell_type": "code",
   "execution_count": 13,
   "metadata": {},
   "outputs": [],
   "source": [
    "#define the board\n",
    "\n",
    "# board_start = np.zeros(shape=(3,3))   ##(print after every turn)\n",
    "board_start = np.array([[0,1,1],[1,1,1],[0,0,1]])\n",
    "\n",
    "## define the symbols for the two players\n",
    "\n",
    "player_a = 'X'\n",
    "player_b = 'O'\n"
   ]
  },
  {
   "cell_type": "code",
   "execution_count": 14,
   "metadata": {},
   "outputs": [],
   "source": [
    "player_a, player_b = 1,0"
   ]
  },
  {
   "cell_type": "code",
   "execution_count": 18,
   "metadata": {},
   "outputs": [
    {
     "name": "stdout",
     "output_type": "stream",
     "text": [
      "Player A wins\n"
     ]
    }
   ],
   "source": [
    "## Validation \n",
    "## 1. The difference between the number of 1s and zeros on the board can be 1 at max\n",
    "\n",
    "\n",
    "\n",
    "\n",
    "## for row win\n",
    "\n",
    "for i in range(board_start.shape[0]):\n",
    "    row_sum = 0\n",
    "    for j in range(board_start.shape[1]):\n",
    "        if board_start[i][j] == player_a:\n",
    "            row_sum += 1\n",
    "        elif board_start[i][j] == player_b:\n",
    "            row_sum = row_sum - 1\n",
    "    if row_sum == 3:\n",
    "        print('Player A wins')\n",
    "    elif row_sum == -3:\n",
    "        print('Player B wins')\n",
    "    else:\n",
    "        pass\n",
    "\n",
    "\n",
    "## for column win \n",
    "\n",
    "for i in range(board_start.shape[1]):\n",
    "    row_sum = 0\n",
    "    for j in range(board_start.shape[0]):\n",
    "        if board_start[i][j] == player_a:\n",
    "            row_sum += 1\n",
    "        elif board_start[i][j] == player_b:\n",
    "            row_sum = row_sum - 1\n",
    "    if row_sum == 3:\n",
    "        print('Player A wins')\n",
    "    elif row_sum == -3:\n",
    "        print('Player B wins')\n",
    "    else:\n",
    "        pass"
   ]
  }
 ],
 "metadata": {
  "kernelspec": {
   "display_name": "marketerhire",
   "language": "python",
   "name": "python3"
  },
  "language_info": {
   "codemirror_mode": {
    "name": "ipython",
    "version": 3
   },
   "file_extension": ".py",
   "mimetype": "text/x-python",
   "name": "python",
   "nbconvert_exporter": "python",
   "pygments_lexer": "ipython3",
   "version": "3.9.7 (default, Sep 16 2021, 16:59:28) [MSC v.1916 64 bit (AMD64)]"
  },
  "orig_nbformat": 4,
  "vscode": {
   "interpreter": {
    "hash": "85f3afcbd035e1f603b9e375a8c036416394fbe36f686b90e6af3554182e0e4c"
   }
  }
 },
 "nbformat": 4,
 "nbformat_minor": 2
}
